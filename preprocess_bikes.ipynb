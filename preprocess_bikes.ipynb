{
 "cells": [
  {
   "cell_type": "code",
   "execution_count": 25,
   "metadata": {},
   "outputs": [],
   "source": [
    "# Import packages\n",
    "import glob\n",
    "import pandas as pd"
   ]
  },
  {
   "cell_type": "code",
   "execution_count": 3,
   "metadata": {},
   "outputs": [],
   "source": [
    "# Define path names\n",
    "path = 'data/bike'\n",
    "csv_files = glob.glob(path + '/*.csv')"
   ]
  },
  {
   "cell_type": "code",
   "execution_count": 16,
   "metadata": {},
   "outputs": [],
   "source": [
    "# Create function to parse csv file and collapse data with groupby statement\n",
    "def parse_file(f):\n",
    "    df = pd.read_csv(f)\n",
    "    df.rename(columns = {'Start date': 'startdate'}, inplace=True)\n",
    "    df['startdate'] = pd.to_datetime(df['startdate'])\n",
    "    df['dailydate'] = df['startdate'].dt.date\n",
    "    df_date = df.groupby('dailydate')['startdate'].count().reset_index()\n",
    "    df_date = df_date.rename({'dailydate': 'date', 'startdate': 'numbikes'}, axis=1)\n",
    "    return df_date"
   ]
  },
  {
   "cell_type": "code",
   "execution_count": 15,
   "metadata": {},
   "outputs": [
    {
     "data": {
      "text/plain": [
       "['data/bike/201805-capitalbikeshare-tripdata.csv',\n",
       " 'data/bike/2016Q2-capitalbikeshare-tripdata.csv',\n",
       " 'data/bike/201910-capitalbikeshare-tripdata.csv',\n",
       " 'data/bike/2013Q2-capitalbikeshare-tripdata.csv',\n",
       " 'data/bike/2015Q4-capitalbikeshare-tripdata.csv',\n",
       " 'data/bike/201901-capitalbikeshare-tripdata.csv',\n",
       " 'data/bike/201802-capitalbikeshare-tripdata.csv',\n",
       " 'data/bike/2012Q1-capitalbikeshare-tripdata.csv',\n",
       " 'data/bike/201909-capitalbikeshare-tripdata.csv',\n",
       " 'data/bike/2017Q1-capitalbikeshare-tripdata.csv',\n",
       " 'data/bike/201906-capitalbikeshare-tripdata.csv',\n",
       " 'data/bike/2015Q3-capitalbikeshare-tripdata.csv',\n",
       " 'data/bike/2013Q3-capitalbikeshare-tripdata.csv',\n",
       " 'data/bike/201911-capitalbikeshare-tripdata.csv',\n",
       " 'data/bike/2014Q1-capitalbikeshare-tripdata.csv',\n",
       " 'data/bike/201804-capitalbikeshare-tripdata.csv',\n",
       " 'data/bike/2016Q3-capitalbikeshare-tripdata.csv',\n",
       " 'data/bike/2015Q2-capitalbikeshare-tripdata.csv',\n",
       " 'data/bike/201907-capitalbikeshare-tripdata.csv',\n",
       " 'data/bike/201812-capitalbikeshare-tripdata.csv',\n",
       " 'data/bike/2013Q4-capitalbikeshare-tripdata.csv',\n",
       " 'data/bike/201908-capitalbikeshare-tripdata.csv',\n",
       " 'data/bike/201803-capitalbikeshare-tripdata.csv',\n",
       " 'data/bike/2016Q4-capitalbikeshare-tripdata.csv',\n",
       " 'data/bike/2017Q3-capitalbikeshare-tripdata.csv',\n",
       " 'data/bike/201904-capitalbikeshare-tripdata.csv',\n",
       " 'data/bike/2015Q1-capitalbikeshare-tripdata.csv',\n",
       " 'data/bike/201811-capitalbikeshare-tripdata.csv',\n",
       " 'data/bike/2012Q3-capitalbikeshare-tripdata.csv',\n",
       " 'data/bike/2017Q4-capitalbikeshare-tripdata.csv',\n",
       " 'data/bike/201903-capitalbikeshare-tripdata.csv',\n",
       " 'data/bike/201808-capitalbikeshare-tripdata.csv',\n",
       " 'data/bike/201912-capitalbikeshare-tripdata.csv',\n",
       " 'data/bike/2012Q4-capitalbikeshare-tripdata.csv',\n",
       " 'data/bike/201801_capitalbikeshare_tripdata.csv',\n",
       " 'data/bike/201807-capitalbikeshare-tripdata.csv',\n",
       " 'data/bike/2014Q2-capitalbikeshare-tripdata.csv',\n",
       " 'data/bike/2014Q4-capitalbikeshare-tripdata.csv',\n",
       " 'data/bike/2012Q2-capitalbikeshare-tripdata.csv',\n",
       " 'data/bike/2011-capitalbikeshare-tripdata.csv',\n",
       " 'data/bike/201810-capitalbikeshare-tripdata.csv',\n",
       " 'data/bike/2017Q2-capitalbikeshare-tripdata.csv',\n",
       " 'data/bike/201905-capitalbikeshare-tripdata.csv',\n",
       " 'data/bike/2014Q3-capitalbikeshare-tripdata.csv',\n",
       " 'data/bike/201806-capitalbikeshare-tripdata.csv',\n",
       " 'data/bike/2016Q1-capitalbikeshare-tripdata.csv',\n",
       " 'data/bike/201809-capitalbikeshare-tripdata.csv',\n",
       " 'data/bike/2013Q1-capitalbikeshare-tripdata.csv',\n",
       " 'data/bike/201902-capitalbikeshare-tripdata.csv']"
      ]
     },
     "execution_count": 15,
     "metadata": {},
     "output_type": "execute_result"
    }
   ],
   "source": [
    "csv_files"
   ]
  },
  {
   "cell_type": "code",
   "execution_count": 53,
   "metadata": {},
   "outputs": [],
   "source": [
    "# Read all csv files, concatenate them, sort in ascending order by date\n",
    "df_all = []\n",
    "for f in csv_files:\n",
    "    parsed_df = parse_file(f)\n",
    "    df_all.append(parsed_df)\n",
    "df_bike = pd.concat(df_all).reset_index(drop=True)\n",
    "df_bike = df_bike.sort_values(by='date', ascending=True)\n",
    "df_bike['date'] = pd.to_datetime(df_bike['date']) "
   ]
  },
  {
   "cell_type": "code",
   "execution_count": 54,
   "metadata": {},
   "outputs": [],
   "source": [
    "# Extract year, month and day of the week\n",
    "df_bike['year'] = df_bike['date'].dt.year\n",
    "df_bike['month'] = df_bike['date'].dt.month\n",
    "df_bike['dayofweek'] = df_bike['date'].dt.dayofweek"
   ]
  },
  {
   "cell_type": "code",
   "execution_count": 63,
   "metadata": {},
   "outputs": [
    {
     "name": "stdout",
     "output_type": "stream",
     "text": [
      "           date  numbikes  year  month  dayofweek\n",
      "2412 2011-01-01       959  2011      1          5\n",
      "2413 2011-01-02       781  2011      1          6\n",
      "2414 2011-01-03      1301  2011      1          0\n",
      "2415 2011-01-04      1536  2011      1          1\n",
      "2416 2011-01-05      1571  2011      1          2\n",
      "2417 2011-01-06      1573  2011      1          3\n",
      "2418 2011-01-07      1493  2011      1          4\n",
      "2419 2011-01-08       939  2011      1          5\n",
      "2420 2011-01-09       802  2011      1          6\n",
      "2421 2011-01-10      1298  2011      1          0\n",
      "<class 'pandas.core.frame.DataFrame'>\n",
      "Int64Index: 3287 entries, 2412 to 1983\n",
      "Data columns (total 5 columns):\n",
      " #   Column     Non-Null Count  Dtype         \n",
      "---  ------     --------------  -----         \n",
      " 0   date       3287 non-null   datetime64[ns]\n",
      " 1   numbikes   3287 non-null   int64         \n",
      " 2   year       3287 non-null   int64         \n",
      " 3   month      3287 non-null   int64         \n",
      " 4   dayofweek  3287 non-null   int64         \n",
      "dtypes: datetime64[ns](1), int64(4)\n",
      "memory usage: 283.1 KB\n",
      "None\n",
      "3287\n"
     ]
    }
   ],
   "source": [
    "# Print some dataframe information\n",
    "print(df_bike.head(10))\n",
    "print(df_bike.info())\n",
    "print(df_bike.shape[0])"
   ]
  },
  {
   "cell_type": "code",
   "execution_count": 62,
   "metadata": {},
   "outputs": [
    {
     "name": "stdout",
     "output_type": "stream",
     "text": [
      "25943147\n",
      "date         0\n",
      "numbikes     0\n",
      "year         0\n",
      "month        0\n",
      "dayofweek    0\n",
      "dtype: int64\n"
     ]
    }
   ],
   "source": [
    "# Check total number of bikes and missing values\n",
    "print(df_bike.numbikes.sum())\n",
    "print(df_bike.isnull().sum())"
   ]
  },
  {
   "cell_type": "code",
   "execution_count": 64,
   "metadata": {},
   "outputs": [],
   "source": [
    "# Save to csv file\n",
    "df_bike.to_csv('data/dc-bikes-daily.csv')"
   ]
  }
 ],
 "metadata": {
  "kernelspec": {
   "display_name": "Python 3.9.8 ('.venv': venv)",
   "language": "python",
   "name": "python3"
  },
  "language_info": {
   "codemirror_mode": {
    "name": "ipython",
    "version": 3
   },
   "file_extension": ".py",
   "mimetype": "text/x-python",
   "name": "python",
   "nbconvert_exporter": "python",
   "pygments_lexer": "ipython3",
   "version": "3.9.8"
  },
  "orig_nbformat": 4,
  "vscode": {
   "interpreter": {
    "hash": "ab354bdad263e87f891cd57805be1038b7e2679b74f6d03038254b2c7ecc1f3d"
   }
  }
 },
 "nbformat": 4,
 "nbformat_minor": 2
}
